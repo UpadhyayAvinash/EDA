{
 "cells": [
  {
   "cell_type": "markdown",
   "metadata": {},
   "source": [
    "# Portfolio Project: Online Retail Exploratory Data Analysis with Python"
   ]
  },
  {
   "cell_type": "markdown",
   "metadata": {},
   "source": [
    "## Overview\n",
    "\n",
    "In this project, you will step into the shoes of an entry-level data analyst at an online retail company, helping interpret real-world data to help make a key business decision."
   ]
  },
  {
   "cell_type": "markdown",
   "metadata": {},
   "source": [
    "## Case Study\n",
    "In this project, you will be working with transactional data from an online retail store. The dataset contains information about customer purchases, including product details, quantities, prices, and timestamps. Your task is to explore and analyze this dataset to gain insights into the store's sales trends, customer behavior, and popular products. \n",
    "\n",
    "By conducting exploratory data analysis, you will identify patterns, outliers, and correlations in the data, allowing you to make data-driven decisions and recommendations to optimize the store's operations and improve customer satisfaction. Through visualizations and statistical analysis, you will uncover key trends, such as the busiest sales months, best-selling products, and the store's most valuable customers. Ultimately, this project aims to provide actionable insights that can drive strategic business decisions and enhance the store's overall performance in the competitive online retail market."
   ]
  },
  {
   "cell_type": "markdown",
   "metadata": {},
   "source": [
    "## Project Objectives\n",
    "1. Describe data to answer key questions to uncover insights\n",
    "2. Gain valuable insights that will help improve online retail performance\n",
    "3. Provide analytic insights and data-driven recommendations"
   ]
  },
  {
   "cell_type": "markdown",
   "metadata": {},
   "source": [
    "## Dataset\n",
    "\n",
    "The dataset you will be working with is the \"Online Retail\" dataset. It contains transactional data of an online retail store from 2010 to 2011. The dataset is available as a .xlsx file named `Online Retail.xlsx`. This data file is already included in the Coursera Jupyter Notebook environment, however if you are working off-platform it can also be downloaded [here](https://archive.ics.uci.edu/ml/machine-learning-databases/00352/Online%20Retail.xlsx).\n",
    "\n",
    "The dataset contains the following columns:\n",
    "\n",
    "- InvoiceNo: Invoice number of the transaction\n",
    "- StockCode: Unique code of the product\n",
    "- Description: Description of the product\n",
    "- Quantity: Quantity of the product in the transaction\n",
    "- InvoiceDate: Date and time of the transaction\n",
    "- UnitPrice: Unit price of the product\n",
    "- CustomerID: Unique identifier of the customer\n",
    "- Country: Country where the transaction occurred"
   ]
  },
  {
   "cell_type": "markdown",
   "metadata": {},
   "source": [
    "## Tasks\n",
    "\n",
    "You may explore this dataset in any way you would like - however if you'd like some help getting started, here are a few ideas:\n",
    "\n",
    "1. Load the dataset into a Pandas DataFrame and display the first few rows to get an overview of the data.\n",
    "2. Perform data cleaning by handling missing values, if any, and removing any redundant or unnecessary columns.\n",
    "3. Explore the basic statistics of the dataset, including measures of central tendency and dispersion.\n",
    "4. Perform data visualization to gain insights into the dataset. Generate appropriate plots, such as histograms, scatter plots, or bar plots, to visualize different aspects of the data.\n",
    "5. Analyze the sales trends over time. Identify the busiest months and days of the week in terms of sales.\n",
    "6. Explore the top-selling products and countries based on the quantity sold.\n",
    "7. Identify any outliers or anomalies in the dataset and discuss their potential impact on the analysis.\n",
    "8. Draw conclusions and summarize your findings from the exploratory data analysis."
   ]
  },
  {
   "cell_type": "markdown",
   "metadata": {},
   "source": [
    "## Task 1: Load the Data"
   ]
  },
  {
   "cell_type": "code",
   "execution_count": 17,
   "metadata": {},
   "outputs": [],
   "source": [
    "## import libraries\n",
    "\n",
    "import pandas as pd\n",
    "import numpy as np\n",
    "import matplotlib.pyplot as plt\n",
    "import seaborn as sns"
   ]
  },
  {
   "cell_type": "code",
   "execution_count": 5,
   "metadata": {},
   "outputs": [
    {
     "data": {
      "text/html": [
       "<div>\n",
       "<style scoped>\n",
       "    .dataframe tbody tr th:only-of-type {\n",
       "        vertical-align: middle;\n",
       "    }\n",
       "\n",
       "    .dataframe tbody tr th {\n",
       "        vertical-align: top;\n",
       "    }\n",
       "\n",
       "    .dataframe thead th {\n",
       "        text-align: right;\n",
       "    }\n",
       "</style>\n",
       "<table border=\"1\" class=\"dataframe\">\n",
       "  <thead>\n",
       "    <tr style=\"text-align: right;\">\n",
       "      <th></th>\n",
       "      <th>InvoiceNo</th>\n",
       "      <th>StockCode</th>\n",
       "      <th>Description</th>\n",
       "      <th>Quantity</th>\n",
       "      <th>InvoiceDate</th>\n",
       "      <th>UnitPrice</th>\n",
       "      <th>CustomerID</th>\n",
       "      <th>Country</th>\n",
       "    </tr>\n",
       "  </thead>\n",
       "  <tbody>\n",
       "    <tr>\n",
       "      <th>0</th>\n",
       "      <td>536365</td>\n",
       "      <td>85123A</td>\n",
       "      <td>WHITE HANGING HEART T-LIGHT HOLDER</td>\n",
       "      <td>6</td>\n",
       "      <td>2010-12-01 08:26:00</td>\n",
       "      <td>2.55</td>\n",
       "      <td>17850.0</td>\n",
       "      <td>United Kingdom</td>\n",
       "    </tr>\n",
       "    <tr>\n",
       "      <th>1</th>\n",
       "      <td>536365</td>\n",
       "      <td>71053</td>\n",
       "      <td>WHITE METAL LANTERN</td>\n",
       "      <td>6</td>\n",
       "      <td>2010-12-01 08:26:00</td>\n",
       "      <td>3.39</td>\n",
       "      <td>17850.0</td>\n",
       "      <td>United Kingdom</td>\n",
       "    </tr>\n",
       "    <tr>\n",
       "      <th>2</th>\n",
       "      <td>536365</td>\n",
       "      <td>84406B</td>\n",
       "      <td>CREAM CUPID HEARTS COAT HANGER</td>\n",
       "      <td>8</td>\n",
       "      <td>2010-12-01 08:26:00</td>\n",
       "      <td>2.75</td>\n",
       "      <td>17850.0</td>\n",
       "      <td>United Kingdom</td>\n",
       "    </tr>\n",
       "    <tr>\n",
       "      <th>3</th>\n",
       "      <td>536365</td>\n",
       "      <td>84029G</td>\n",
       "      <td>KNITTED UNION FLAG HOT WATER BOTTLE</td>\n",
       "      <td>6</td>\n",
       "      <td>2010-12-01 08:26:00</td>\n",
       "      <td>3.39</td>\n",
       "      <td>17850.0</td>\n",
       "      <td>United Kingdom</td>\n",
       "    </tr>\n",
       "    <tr>\n",
       "      <th>4</th>\n",
       "      <td>536365</td>\n",
       "      <td>84029E</td>\n",
       "      <td>RED WOOLLY HOTTIE WHITE HEART.</td>\n",
       "      <td>6</td>\n",
       "      <td>2010-12-01 08:26:00</td>\n",
       "      <td>3.39</td>\n",
       "      <td>17850.0</td>\n",
       "      <td>United Kingdom</td>\n",
       "    </tr>\n",
       "  </tbody>\n",
       "</table>\n",
       "</div>"
      ],
      "text/plain": [
       "  InvoiceNo StockCode                          Description  Quantity  \\\n",
       "0    536365    85123A   WHITE HANGING HEART T-LIGHT HOLDER         6   \n",
       "1    536365     71053                  WHITE METAL LANTERN         6   \n",
       "2    536365    84406B       CREAM CUPID HEARTS COAT HANGER         8   \n",
       "3    536365    84029G  KNITTED UNION FLAG HOT WATER BOTTLE         6   \n",
       "4    536365    84029E       RED WOOLLY HOTTIE WHITE HEART.         6   \n",
       "\n",
       "          InvoiceDate  UnitPrice  CustomerID         Country  \n",
       "0 2010-12-01 08:26:00       2.55     17850.0  United Kingdom  \n",
       "1 2010-12-01 08:26:00       3.39     17850.0  United Kingdom  \n",
       "2 2010-12-01 08:26:00       2.75     17850.0  United Kingdom  \n",
       "3 2010-12-01 08:26:00       3.39     17850.0  United Kingdom  \n",
       "4 2010-12-01 08:26:00       3.39     17850.0  United Kingdom  "
      ]
     },
     "execution_count": 5,
     "metadata": {},
     "output_type": "execute_result"
    }
   ],
   "source": [
    "#.1>\n",
    "df =  pd.read_excel(r'D:/Avinash Coding/Python/Online_Retail_Analysis/Online Retail.xlsx')\n",
    "df.head()"
   ]
  },
  {
   "cell_type": "code",
   "execution_count": 6,
   "metadata": {},
   "outputs": [
    {
     "data": {
      "text/html": [
       "<div>\n",
       "<style scoped>\n",
       "    .dataframe tbody tr th:only-of-type {\n",
       "        vertical-align: middle;\n",
       "    }\n",
       "\n",
       "    .dataframe tbody tr th {\n",
       "        vertical-align: top;\n",
       "    }\n",
       "\n",
       "    .dataframe thead th {\n",
       "        text-align: right;\n",
       "    }\n",
       "</style>\n",
       "<table border=\"1\" class=\"dataframe\">\n",
       "  <thead>\n",
       "    <tr style=\"text-align: right;\">\n",
       "      <th></th>\n",
       "      <th>InvoiceNo</th>\n",
       "      <th>StockCode</th>\n",
       "      <th>Description</th>\n",
       "      <th>Quantity</th>\n",
       "      <th>InvoiceDate</th>\n",
       "      <th>UnitPrice</th>\n",
       "      <th>CustomerID</th>\n",
       "      <th>Country</th>\n",
       "    </tr>\n",
       "  </thead>\n",
       "  <tbody>\n",
       "    <tr>\n",
       "      <th>541904</th>\n",
       "      <td>581587</td>\n",
       "      <td>22613</td>\n",
       "      <td>PACK OF 20 SPACEBOY NAPKINS</td>\n",
       "      <td>12</td>\n",
       "      <td>2011-12-09 12:50:00</td>\n",
       "      <td>0.85</td>\n",
       "      <td>12680.0</td>\n",
       "      <td>France</td>\n",
       "    </tr>\n",
       "    <tr>\n",
       "      <th>541905</th>\n",
       "      <td>581587</td>\n",
       "      <td>22899</td>\n",
       "      <td>CHILDREN'S APRON DOLLY GIRL</td>\n",
       "      <td>6</td>\n",
       "      <td>2011-12-09 12:50:00</td>\n",
       "      <td>2.10</td>\n",
       "      <td>12680.0</td>\n",
       "      <td>France</td>\n",
       "    </tr>\n",
       "    <tr>\n",
       "      <th>541906</th>\n",
       "      <td>581587</td>\n",
       "      <td>23254</td>\n",
       "      <td>CHILDRENS CUTLERY DOLLY GIRL</td>\n",
       "      <td>4</td>\n",
       "      <td>2011-12-09 12:50:00</td>\n",
       "      <td>4.15</td>\n",
       "      <td>12680.0</td>\n",
       "      <td>France</td>\n",
       "    </tr>\n",
       "    <tr>\n",
       "      <th>541907</th>\n",
       "      <td>581587</td>\n",
       "      <td>23255</td>\n",
       "      <td>CHILDRENS CUTLERY CIRCUS PARADE</td>\n",
       "      <td>4</td>\n",
       "      <td>2011-12-09 12:50:00</td>\n",
       "      <td>4.15</td>\n",
       "      <td>12680.0</td>\n",
       "      <td>France</td>\n",
       "    </tr>\n",
       "    <tr>\n",
       "      <th>541908</th>\n",
       "      <td>581587</td>\n",
       "      <td>22138</td>\n",
       "      <td>BAKING SET 9 PIECE RETROSPOT</td>\n",
       "      <td>3</td>\n",
       "      <td>2011-12-09 12:50:00</td>\n",
       "      <td>4.95</td>\n",
       "      <td>12680.0</td>\n",
       "      <td>France</td>\n",
       "    </tr>\n",
       "  </tbody>\n",
       "</table>\n",
       "</div>"
      ],
      "text/plain": [
       "       InvoiceNo StockCode                      Description  Quantity  \\\n",
       "541904    581587     22613      PACK OF 20 SPACEBOY NAPKINS        12   \n",
       "541905    581587     22899     CHILDREN'S APRON DOLLY GIRL          6   \n",
       "541906    581587     23254    CHILDRENS CUTLERY DOLLY GIRL          4   \n",
       "541907    581587     23255  CHILDRENS CUTLERY CIRCUS PARADE         4   \n",
       "541908    581587     22138    BAKING SET 9 PIECE RETROSPOT          3   \n",
       "\n",
       "               InvoiceDate  UnitPrice  CustomerID Country  \n",
       "541904 2011-12-09 12:50:00       0.85     12680.0  France  \n",
       "541905 2011-12-09 12:50:00       2.10     12680.0  France  \n",
       "541906 2011-12-09 12:50:00       4.15     12680.0  France  \n",
       "541907 2011-12-09 12:50:00       4.15     12680.0  France  \n",
       "541908 2011-12-09 12:50:00       4.95     12680.0  France  "
      ]
     },
     "execution_count": 6,
     "metadata": {},
     "output_type": "execute_result"
    }
   ],
   "source": [
    "df.tail()"
   ]
  },
  {
   "cell_type": "code",
   "execution_count": 8,
   "metadata": {},
   "outputs": [
    {
     "data": {
      "text/html": [
       "<div>\n",
       "<style scoped>\n",
       "    .dataframe tbody tr th:only-of-type {\n",
       "        vertical-align: middle;\n",
       "    }\n",
       "\n",
       "    .dataframe tbody tr th {\n",
       "        vertical-align: top;\n",
       "    }\n",
       "\n",
       "    .dataframe thead th {\n",
       "        text-align: right;\n",
       "    }\n",
       "</style>\n",
       "<table border=\"1\" class=\"dataframe\">\n",
       "  <thead>\n",
       "    <tr style=\"text-align: right;\">\n",
       "      <th></th>\n",
       "      <th>Quantity</th>\n",
       "      <th>UnitPrice</th>\n",
       "      <th>CustomerID</th>\n",
       "    </tr>\n",
       "  </thead>\n",
       "  <tbody>\n",
       "    <tr>\n",
       "      <th>count</th>\n",
       "      <td>541909.000000</td>\n",
       "      <td>541909.000000</td>\n",
       "      <td>406829.000000</td>\n",
       "    </tr>\n",
       "    <tr>\n",
       "      <th>mean</th>\n",
       "      <td>9.552250</td>\n",
       "      <td>4.611114</td>\n",
       "      <td>15287.690570</td>\n",
       "    </tr>\n",
       "    <tr>\n",
       "      <th>std</th>\n",
       "      <td>218.081158</td>\n",
       "      <td>96.759853</td>\n",
       "      <td>1713.600303</td>\n",
       "    </tr>\n",
       "    <tr>\n",
       "      <th>min</th>\n",
       "      <td>-80995.000000</td>\n",
       "      <td>-11062.060000</td>\n",
       "      <td>12346.000000</td>\n",
       "    </tr>\n",
       "    <tr>\n",
       "      <th>25%</th>\n",
       "      <td>1.000000</td>\n",
       "      <td>1.250000</td>\n",
       "      <td>13953.000000</td>\n",
       "    </tr>\n",
       "    <tr>\n",
       "      <th>50%</th>\n",
       "      <td>3.000000</td>\n",
       "      <td>2.080000</td>\n",
       "      <td>15152.000000</td>\n",
       "    </tr>\n",
       "    <tr>\n",
       "      <th>75%</th>\n",
       "      <td>10.000000</td>\n",
       "      <td>4.130000</td>\n",
       "      <td>16791.000000</td>\n",
       "    </tr>\n",
       "    <tr>\n",
       "      <th>max</th>\n",
       "      <td>80995.000000</td>\n",
       "      <td>38970.000000</td>\n",
       "      <td>18287.000000</td>\n",
       "    </tr>\n",
       "  </tbody>\n",
       "</table>\n",
       "</div>"
      ],
      "text/plain": [
       "            Quantity      UnitPrice     CustomerID\n",
       "count  541909.000000  541909.000000  406829.000000\n",
       "mean        9.552250       4.611114   15287.690570\n",
       "std       218.081158      96.759853    1713.600303\n",
       "min    -80995.000000  -11062.060000   12346.000000\n",
       "25%         1.000000       1.250000   13953.000000\n",
       "50%         3.000000       2.080000   15152.000000\n",
       "75%        10.000000       4.130000   16791.000000\n",
       "max     80995.000000   38970.000000   18287.000000"
      ]
     },
     "execution_count": 8,
     "metadata": {},
     "output_type": "execute_result"
    }
   ],
   "source": [
    "df.describe()"
   ]
  },
  {
   "cell_type": "code",
   "execution_count": 9,
   "metadata": {},
   "outputs": [
    {
     "data": {
      "text/plain": [
       "InvoiceNo              object\n",
       "StockCode              object\n",
       "Description            object\n",
       "Quantity                int64\n",
       "InvoiceDate    datetime64[ns]\n",
       "UnitPrice             float64\n",
       "CustomerID            float64\n",
       "Country                object\n",
       "dtype: object"
      ]
     },
     "execution_count": 9,
     "metadata": {},
     "output_type": "execute_result"
    }
   ],
   "source": [
    "df.dtypes"
   ]
  },
  {
   "cell_type": "code",
   "execution_count": 10,
   "metadata": {},
   "outputs": [
    {
     "data": {
      "text/plain": [
       "(541909, 8)"
      ]
     },
     "execution_count": 10,
     "metadata": {},
     "output_type": "execute_result"
    }
   ],
   "source": [
    "df.shape"
   ]
  },
  {
   "cell_type": "code",
   "execution_count": 14,
   "metadata": {},
   "outputs": [
    {
     "data": {
      "text/plain": [
       "Index(['InvoiceNo', 'StockCode', 'Description', 'Quantity', 'InvoiceDate',\n",
       "       'UnitPrice', 'CustomerID', 'Country'],\n",
       "      dtype='object')"
      ]
     },
     "execution_count": 14,
     "metadata": {},
     "output_type": "execute_result"
    }
   ],
   "source": [
    "df.columns"
   ]
  },
  {
   "cell_type": "code",
   "execution_count": 13,
   "metadata": {},
   "outputs": [
    {
     "name": "stdout",
     "output_type": "stream",
     "text": [
      "<class 'pandas.core.frame.DataFrame'>\n",
      "RangeIndex: 541909 entries, 0 to 541908\n",
      "Data columns (total 8 columns):\n",
      " #   Column       Non-Null Count   Dtype         \n",
      "---  ------       --------------   -----         \n",
      " 0   InvoiceNo    541909 non-null  object        \n",
      " 1   StockCode    541909 non-null  object        \n",
      " 2   Description  540455 non-null  object        \n",
      " 3   Quantity     541909 non-null  int64         \n",
      " 4   InvoiceDate  541909 non-null  datetime64[ns]\n",
      " 5   UnitPrice    541909 non-null  float64       \n",
      " 6   CustomerID   406829 non-null  float64       \n",
      " 7   Country      541909 non-null  object        \n",
      "dtypes: datetime64[ns](1), float64(2), int64(1), object(4)\n",
      "memory usage: 33.1+ MB\n"
     ]
    }
   ],
   "source": [
    "df.info()"
   ]
  },
  {
   "cell_type": "markdown",
   "metadata": {},
   "source": [
    "## Task 2: Data Cleaning"
   ]
  },
  {
   "cell_type": "code",
   "execution_count": 16,
   "metadata": {},
   "outputs": [
    {
     "data": {
      "text/plain": [
       "InvoiceNo           0\n",
       "StockCode           0\n",
       "Description      1454\n",
       "Quantity            0\n",
       "InvoiceDate         0\n",
       "UnitPrice           0\n",
       "CustomerID     135080\n",
       "Country             0\n",
       "dtype: int64"
      ]
     },
     "execution_count": 16,
     "metadata": {},
     "output_type": "execute_result"
    }
   ],
   "source": [
    "df.isnull().sum()"
   ]
  },
  {
   "cell_type": "code",
   "execution_count": 19,
   "metadata": {},
   "outputs": [
    {
     "data": {
      "text/plain": [
       "(541909, 8)"
      ]
     },
     "execution_count": 19,
     "metadata": {},
     "output_type": "execute_result"
    }
   ],
   "source": [
    "df.shape"
   ]
  },
  {
   "cell_type": "code",
   "execution_count": 20,
   "metadata": {},
   "outputs": [],
   "source": [
    "## drop rows with null values\n",
    "\n",
    "df=df.dropna()"
   ]
  },
  {
   "cell_type": "code",
   "execution_count": 21,
   "metadata": {},
   "outputs": [
    {
     "data": {
      "text/plain": [
       "InvoiceNo      0\n",
       "StockCode      0\n",
       "Description    0\n",
       "Quantity       0\n",
       "InvoiceDate    0\n",
       "UnitPrice      0\n",
       "CustomerID     0\n",
       "Country        0\n",
       "dtype: int64"
      ]
     },
     "execution_count": 21,
     "metadata": {},
     "output_type": "execute_result"
    }
   ],
   "source": [
    "df.isnull().sum()"
   ]
  },
  {
   "cell_type": "code",
   "execution_count": 22,
   "metadata": {},
   "outputs": [
    {
     "data": {
      "text/plain": [
       "(406829, 8)"
      ]
     },
     "execution_count": 22,
     "metadata": {},
     "output_type": "execute_result"
    }
   ],
   "source": [
    "df.shape"
   ]
  },
  {
   "cell_type": "code",
   "execution_count": 23,
   "metadata": {},
   "outputs": [
    {
     "name": "stdout",
     "output_type": "stream",
     "text": [
      "<class 'pandas.core.frame.DataFrame'>\n",
      "Int64Index: 406829 entries, 0 to 541908\n",
      "Data columns (total 8 columns):\n",
      " #   Column       Non-Null Count   Dtype         \n",
      "---  ------       --------------   -----         \n",
      " 0   InvoiceNo    406829 non-null  object        \n",
      " 1   StockCode    406829 non-null  object        \n",
      " 2   Description  406829 non-null  object        \n",
      " 3   Quantity     406829 non-null  int64         \n",
      " 4   InvoiceDate  406829 non-null  datetime64[ns]\n",
      " 5   UnitPrice    406829 non-null  float64       \n",
      " 6   CustomerID   406829 non-null  float64       \n",
      " 7   Country      406829 non-null  object        \n",
      "dtypes: datetime64[ns](1), float64(2), int64(1), object(4)\n",
      "memory usage: 27.9+ MB\n"
     ]
    }
   ],
   "source": [
    "df.info()"
   ]
  },
  {
   "cell_type": "markdown",
   "metadata": {},
   "source": [
    "## Task 3: Exploring basic statistics (Central tendency and dispersion)"
   ]
  },
  {
   "cell_type": "markdown",
   "metadata": {},
   "source": [
    "#### Calculating mean, median and mode for Quantity and Unit price"
   ]
  },
  {
   "cell_type": "code",
   "execution_count": 25,
   "metadata": {},
   "outputs": [
    {
     "name": "stdout",
     "output_type": "stream",
     "text": [
      "12.06130339774205 3.4604710185298773\n"
     ]
    }
   ],
   "source": [
    "#.1> Mean\n",
    "\n",
    "# Calculate mean for Quantity\n",
    "mean_Quantity = df['Quantity'].mean()\n",
    "\n",
    "# Calculate mean for Unit Price\n",
    "mean_UnitPrice = df['UnitPrice'].mean()\n",
    "\n",
    "print(mean_Quantity, mean_UnitPrice)"
   ]
  },
  {
   "cell_type": "code",
   "execution_count": 28,
   "metadata": {},
   "outputs": [
    {
     "name": "stdout",
     "output_type": "stream",
     "text": [
      "5.0 1.95\n"
     ]
    }
   ],
   "source": [
    "#.2> Median\n",
    "\n",
    "# Calculate median for Quantity\n",
    "median_Quantity = df['Quantity'].median()\n",
    "\n",
    "# Calculate median for Unit Price\n",
    "median_UnitPrice = df['UnitPrice'].median()\n",
    "\n",
    "print(median_Quantity, median_UnitPrice)"
   ]
  },
  {
   "cell_type": "code",
   "execution_count": 33,
   "metadata": {},
   "outputs": [
    {
     "name": "stdout",
     "output_type": "stream",
     "text": [
      "5.0 1.95\n"
     ]
    }
   ],
   "source": [
    "#.3> Mode\n",
    "\n",
    "# Calculate mode for Quantity\n",
    "mode_Quantity = df['Quantity'].mode()[0]\n",
    "\n",
    "# Calculate mode for Unit Price\n",
    "mode_UnitPrice = df['UnitPrice'].mode()[0]\n",
    "\n",
    "print(median_Quantity, median_UnitPrice)"
   ]
  },
  {
   "cell_type": "markdown",
   "metadata": {},
   "source": [
    "#### Calculating Dispersion for Quantity and Unit price"
   ]
  },
  {
   "cell_type": "code",
   "execution_count": 40,
   "metadata": {},
   "outputs": [
    {
     "name": "stdout",
     "output_type": "stream",
     "text": [
      "161990 38970.0\n"
     ]
    }
   ],
   "source": [
    "#.4> Range of Data\n",
    "\n",
    "# Calulate range for Quantity\n",
    "range_Quantity = df['Quantity'].max() - df['Quantity'].min()\n",
    "\n",
    "# Calulate range for UnitPrice\n",
    "range_UnitPrice = df['UnitPrice'].max() - df['UnitPrice'].min()\n",
    "\n",
    "print(range_Quantity, range_UnitPrice)"
   ]
  },
  {
   "cell_type": "code",
   "execution_count": 39,
   "metadata": {},
   "outputs": [
    {
     "name": "stdout",
     "output_type": "stream",
     "text": [
      "61848.39229121513 4804.591644717046\n"
     ]
    }
   ],
   "source": [
    "#.5> Variance\n",
    "\n",
    "# Calculate variance for Quantity\n",
    "var_Quanity = df['Quantity'].var()\n",
    "\n",
    "# Calculate variance for UnitPrice\n",
    "var_UnitPrice = df['UnitPrice'].var()\n",
    "\n",
    "print(var_Quanity, var_UnitPrice)"
   ]
  },
  {
   "cell_type": "code",
   "execution_count": 38,
   "metadata": {},
   "outputs": [
    {
     "name": "stdout",
     "output_type": "stream",
     "text": [
      "248.69337001861376 69.31516172322651\n"
     ]
    }
   ],
   "source": [
    "#.6> Standard Deviation\n",
    "\n",
    "# Calculate standard deviation for Quantity\n",
    "std_Quanity = df['Quantity'].std()\n",
    "\n",
    "# Calculate standard deviation for UnitPrice\n",
    "std_UnitPrice = df['UnitPrice'].std()\n",
    "\n",
    "print(std_Quanity, std_UnitPrice)"
   ]
  },
  {
   "cell_type": "code",
   "execution_count": 53,
   "metadata": {},
   "outputs": [
    {
     "name": "stdout",
     "output_type": "stream",
     "text": [
      "1st Quartile for Quantity :  2.0 \n",
      "2nd Quartile for Quantity :  5.0 \n",
      "3rd Quartile for Quantity :  12.0 \n",
      "IQR_Quantity :  10.0\n"
     ]
    }
   ],
   "source": [
    "#.7> Quartiles and IQR for Quantity\n",
    "\n",
    "# Calulate quartiles for Quantity\n",
    "q1_Quantity = df['Quantity'].quantile(0.25)\n",
    "q2_Quantity = df['Quantity'].quantile(0.50) #median value\n",
    "q3_Quantity = df['Quantity'].quantile(0.75)\n",
    "\n",
    "# calculate Interquartiles range (IQR) for Quantity\n",
    "IQR_Quantity = q3_Quantity-q1_Quantity\n",
    "\n",
    "print('1st Quartile for Quantity : ', q1_Quantity,\n",
    "      '\\n2nd Quartile for Quantity : ', q2_Quantity,\n",
    "      '\\n3rd Quartile for Quantity : ', q3_Quantity,\n",
    "      '\\nIQR_Quantity : ', IQR_Quantity\n",
    "      )"
   ]
  },
  {
   "cell_type": "code",
   "execution_count": 54,
   "metadata": {},
   "outputs": [
    {
     "name": "stdout",
     "output_type": "stream",
     "text": [
      "1st Quartile for UnitPrice :  1.25 \n",
      "2nd Quartile for UnitPrice :  1.95 \n",
      "3rd Quartile for UnitPrice :  3.75 \n",
      "IQR_UnitPrice :  2.5\n"
     ]
    }
   ],
   "source": [
    "#.7> Quartiles and IQR for UnitPrice\n",
    "\n",
    "# Calulate quartiles for UnitPrice\n",
    "q1_UnitPrice = df['UnitPrice'].quantile(0.25)\n",
    "q2_UnitPrice = df['UnitPrice'].quantile(0.50) #median value\n",
    "q3_UnitPrice = df['UnitPrice'].quantile(0.75)\n",
    "\n",
    "# calculate Interquartiles range (IQR) for UnitPrice\n",
    "IQR_UnitPrice = q3_UnitPrice-q1_UnitPrice\n",
    "\n",
    "print('1st Quartile for UnitPrice : ', q1_UnitPrice,\n",
    "      '\\n2nd Quartile for UnitPrice : ', q2_UnitPrice,\n",
    "      '\\n3rd Quartile for UnitPrice : ', q3_UnitPrice,\n",
    "      '\\nIQR_UnitPrice : ', IQR_UnitPrice\n",
    "      )"
   ]
  },
  {
   "cell_type": "markdown",
   "metadata": {},
   "source": [
    "## Task 4: Different Plots"
   ]
  },
  {
   "cell_type": "markdown",
   "metadata": {},
   "source": [
    "#### Freedman-Dianconis rule to calulate bin-width for Histogram\n",
    "\n",
    "##### bin-width = (2*IQR)/n^1/3"
   ]
  },
  {
   "cell_type": "code",
   "execution_count": 57,
   "metadata": {},
   "outputs": [
    {
     "name": "stdout",
     "output_type": "stream",
     "text": [
      "0.26991438324794703 0.06747859581198676\n"
     ]
    }
   ],
   "source": [
    "#.1> Calculate bin-width for Quanity and Unit Price\n",
    "\n",
    "# Calculate bin-width for Quanity\n",
    "bw_Quantity = (2*IQR_Quantity)/np.power(len(df['Quantity']),1/3)\n",
    "\n",
    "# Calculate bin-width for Unit Price\n",
    "bw_UnitPrice = (2*IQR_UnitPrice)/np.power(len(df['UnitPrice']),1/3)\n",
    "\n",
    "print(bw_Quantity, bw_UnitPrice)"
   ]
  },
  {
   "cell_type": "code",
   "execution_count": 75,
   "metadata": {},
   "outputs": [
    {
     "data": {
      "image/png": "[encoded data removed]",
      "text/plain": [
       "<Figure size 432x288 with 1 Axes>"
      ]
     },
     "metadata": {
      "needs_background": "light"
     },
     "output_type": "display_data"
    },
    {
     "data": {
      "image/png": "[encoded data removed]",
      "text/plain": [
       "<Figure size 432x288 with 1 Axes>"
      ]
     },
     "metadata": {
      "needs_background": "light"
     },
     "output_type": "display_data"
    }
   ],
   "source": [
    "\"\"\"\n",
    "Histograms:\n",
    "\n",
    "Quantity: To visualize the distribution of the quantity of items ordered.\n",
    "UnitPrice: To visualize the distribution of unit prices.\n",
    "\"\"\"\n",
    "\n",
    "# Histogram for Quanity\n",
    "plt.hist(df['Quantity'], bins=30, color='skyblue')\n",
    "plt.xlabel('Quanity')\n",
    "plt.ylabel('Frequency')\n",
    "plt.title('Distribution of Quantity')\n",
    "plt.show()\n",
    "\n",
    "# Histogram for UnitPrice\n",
    "plt.hist(df['UnitPrice'], bins=30, color='salmon')\n",
    "plt.xlabel('Unit Price')\n",
    "plt.ylabel('Frequency')\n",
    "plt.title('Distribution of Unit Price')\n",
    "plt.show()"
   ]
  },
  {
   "cell_type": "code",
   "execution_count": 82,
   "metadata": {},
   "outputs": [
    {
     "data": {
      "image/png": "[encoded data removed]",
      "text/plain": [
       "<Figure size 720x360 with 1 Axes>"
      ]
     },
     "metadata": {
      "needs_background": "light"
     },
     "output_type": "display_data"
    }
   ],
   "source": [
    "\"\"\"Bar Plot:\n",
    "\n",
    "Country: To visualize the number of transactions from different countries.\"\"\"\n",
    "\n",
    "country_cnt = df['Country'].value_counts()\n",
    "\n",
    "plt.figure(figsize=(10,5))\n",
    "country_cnt.plot(kind='bar',color='green')\n",
    "plt.xlabel('Country')\n",
    "plt.ylabel('# of transactions')\n",
    "plt.title('# of transactions by Country')\n",
    "plt.show()"
   ]
  },
  {
   "cell_type": "code",
   "execution_count": 86,
   "metadata": {},
   "outputs": [
    {
     "data": {
      "image/png": "[encoded data removed]",
      "text/plain": [
       "<Figure size 432x288 with 1 Axes>"
      ]
     },
     "metadata": {
      "needs_background": "light"
     },
     "output_type": "display_data"
    }
   ],
   "source": [
    "\"\"\"Scatter Plot:\n",
    "\n",
    "Quantity vs. UnitPrice: To visualize the relationship between the quantity of items ordered and their unit prices.\"\"\"\n",
    "\n",
    "# Scatter plot for Quantity vs. UnitPrice\n",
    "plt.scatter(df['Quantity'], df['UnitPrice'], color='red', alpha=0.6)\n",
    "plt.xlabel('Quantity')\n",
    "plt.ylabel('Unit Price')\n",
    "plt.title('Quantity vs. Unit Price')\n",
    "plt.show()"
   ]
  },
  {
   "cell_type": "markdown",
   "metadata": {},
   "source": [
    "## Task 5: Sales trend"
   ]
  },
  {
   "cell_type": "code",
   "execution_count": 87,
   "metadata": {},
   "outputs": [
    {
     "name": "stdout",
     "output_type": "stream",
     "text": [
      "Busiest Month: 11\n",
      "Busiest Day of the Week: 3\n"
     ]
    },
    {
     "name": "stderr",
     "output_type": "stream",
     "text": [
      "C:\\Users\\avina\\AppData\\Local\\Temp\\ipykernel_24764\\1967524357.py:3: SettingWithCopyWarning: \n",
      "A value is trying to be set on a copy of a slice from a DataFrame.\n",
      "Try using .loc[row_indexer,col_indexer] = value instead\n",
      "\n",
      "See the caveats in the documentation: https://pandas.pydata.org/pandas-docs/stable/user_guide/indexing.html#returning-a-view-versus-a-copy\n",
      "  df['Month'] = df['InvoiceDate'].dt.month\n",
      "C:\\Users\\avina\\AppData\\Local\\Temp\\ipykernel_24764\\1967524357.py:4: SettingWithCopyWarning: \n",
      "A value is trying to be set on a copy of a slice from a DataFrame.\n",
      "Try using .loc[row_indexer,col_indexer] = value instead\n",
      "\n",
      "See the caveats in the documentation: https://pandas.pydata.org/pandas-docs/stable/user_guide/indexing.html#returning-a-view-versus-a-copy\n",
      "  df['DayOfWeek'] = df['InvoiceDate'].dt.dayofweek\n"
     ]
    }
   ],
   "source": [
    "# Extract month and day of week\n",
    "\n",
    "df['Month'] = df['InvoiceDate'].dt.month\n",
    "df['DayOfWeek'] = df['InvoiceDate'].dt.dayofweek\n",
    "\n",
    "# Calculate monthly sales\n",
    "monthly_sales = df.groupby('Month')['Quantity'].sum()\n",
    "\n",
    "# Identify the busiest month\n",
    "busiest_month = monthly_sales.idxmax()\n",
    "\n",
    "# Calculate sales by day of week\n",
    "daily_sales = df.groupby('DayOfWeek')['Quantity'].sum()\n",
    "\n",
    "# Identify the busiest day of the week (0 = Monday, 6 = Sunday)\n",
    "busiest_day_of_week = daily_sales.idxmax()\n",
    "# Print the busiest month and day of the week\n",
    "\n",
    "print(\"Busiest Month:\", busiest_month)\n",
    "print(\"Busiest Day of the Week:\", busiest_day_of_week)"
   ]
  },
  {
   "cell_type": "markdown",
   "metadata": {},
   "source": [
    "## Task 6: Top-selling products and countries based on the quantity sold"
   ]
  },
  {
   "cell_type": "code",
   "execution_count": 92,
   "metadata": {},
   "outputs": [
    {
     "name": "stdout",
     "output_type": "stream",
     "text": [
      "Top-Selling Products:\n",
      "Description\n",
      "WORLD WAR 2 GLIDERS ASSTD DESIGNS     53215\n",
      "JUMBO BAG RED RETROSPOT               45066\n",
      "ASSORTED COLOUR BIRD ORNAMENT         35314\n",
      "WHITE HANGING HEART T-LIGHT HOLDER    34147\n",
      "PACK OF 72 RETROSPOT CAKE CASES       33409\n",
      "Name: Quantity, dtype: int64\n",
      "\n",
      "Top Product : 53215\n",
      "\n",
      "Top-Selling Countries : \n",
      "Description\n",
      "HOT WATER BOTTLE KEEP CALM       UnspecifiedUnited KingdomUnited KingdomUnited ...\n",
      "PINK BITTY LIGHT CHAIN           UnspecifiedUnited KingdomUnited KingdomUnited ...\n",
      "CROCHET WHITE RABBIT KEYRING               United KingdomUnited KingdomUnspecified\n",
      "PARTY CHARMS 50 PIECES           United KingdomUnited KingdomUnited KingdomUnsp...\n",
      "GREEN BITTY LIGHT CHAIN          United KingdomUnited KingdomUnited KingdomUnsp...\n",
      "Name: Country, dtype: object\n"
     ]
    }
   ],
   "source": [
    "# Find the top selling products \n",
    "top_selling_products = df.groupby('Description')['Quantity'].sum().sort_values(ascending=False)\n",
    "top_selling_product = top_selling_products[0]\n",
    "\n",
    "# Print the top-selling products\n",
    "print(\"Top-Selling Products:\")\n",
    "print(top_selling_products[:5]) # top 5 selling product\n",
    "\n",
    "print(f\"\\nTop Product : {top_selling_product}\")\n",
    "print()\n",
    "\n",
    "# Find the top selling countries\n",
    "top_selling_countries = df.groupby(\"Description\")[\"Country\"].sum().sort_values(ascending=False)\n",
    "\n",
    "# Print the top-selling- countries\n",
    "print(\"Top-Selling Countries : \")\n",
    "print(top_selling_countries[:5])"
   ]
  },
  {
   "cell_type": "markdown",
   "metadata": {},
   "source": [
    "## Task-7: Identify any outliers or anomalies in the dataset and discuss their potential impact on the analysis.\n",
    "\n"
   ]
  },
  {
   "cell_type": "code",
   "execution_count": 97,
   "metadata": {},
   "outputs": [
    {
     "name": "stderr",
     "output_type": "stream",
     "text": [
      "c:\\Users\\avina\\anaconda3\\lib\\site-packages\\seaborn\\_decorators.py:36: FutureWarning: Pass the following variable as a keyword arg: x. From version 0.12, the only valid positional argument will be `data`, and passing other arguments without an explicit keyword will result in an error or misinterpretation.\n",
      "  warnings.warn(\n"
     ]
    },
    {
     "data": {
      "image/png": "[encoded data removed]",
      "text/plain": [
       "<Figure size 864x432 with 1 Axes>"
      ]
     },
     "metadata": {
      "needs_background": "light"
     },
     "output_type": "display_data"
    },
    {
     "name": "stderr",
     "output_type": "stream",
     "text": [
      "c:\\Users\\avina\\anaconda3\\lib\\site-packages\\seaborn\\_decorators.py:36: FutureWarning: Pass the following variable as a keyword arg: x. From version 0.12, the only valid positional argument will be `data`, and passing other arguments without an explicit keyword will result in an error or misinterpretation.\n",
      "  warnings.warn(\n"
     ]
    },
    {
     "data": {
      "image/png": "[encoded data removed]",
      "text/plain": [
       "<Figure size 864x432 with 1 Axes>"
      ]
     },
     "metadata": {
      "needs_background": "light"
     },
     "output_type": "display_data"
    }
   ],
   "source": [
    "# Create box plots for Quantity \n",
    "plt.figure(figsize=(12, 6))\n",
    "sns.boxplot(df['Quantity'])\n",
    "plt.title('Box Plot for Quantity')\n",
    "plt.show()\n",
    "\n",
    "# Create box plots for UnitPrice\n",
    "plt.figure(figsize=(12, 6))\n",
    "sns.boxplot(df['UnitPrice'])\n",
    "plt.title('Box Plot for UnitPrice')\n",
    "plt.show()\n"
   ]
  },
  {
   "cell_type": "code",
   "execution_count": 99,
   "metadata": {},
   "outputs": [
    {
     "name": "stdout",
     "output_type": "stream",
     "text": [
      "Outliers in Quantity :        InvoiceNo StockCode                       Description  Quantity  \\\n",
      "9         536367     84879     ASSORTED COLOUR BIRD ORNAMENT        32   \n",
      "31        536370     10002       INFLATABLE POLITICAL GLOBE         48   \n",
      "44        536370     22492           MINI PAINT SET VINTAGE         36   \n",
      "46        536371     22086   PAPER CHAIN KIT 50'S CHRISTMAS         80   \n",
      "65        536374     21258        VICTORIAN SEWING BOX LARGE        32   \n",
      "...          ...       ...                               ...       ...   \n",
      "541835    581579     23581            JUMBO BAG PAISLEY PARK        40   \n",
      "541865    581583     20725           LUNCH BAG RED RETROSPOT        40   \n",
      "541866    581583     85038   6 CHOCOLATE LOVE HEART T-LIGHTS        36   \n",
      "541867    581584     20832  RED FLOCK LOVE HEART PHOTO FRAME        72   \n",
      "541868    581584     85038   6 CHOCOLATE LOVE HEART T-LIGHTS        48   \n",
      "\n",
      "               InvoiceDate  UnitPrice  CustomerID         Country  Month  \\\n",
      "9      2010-12-01 08:34:00       1.69     13047.0  United Kingdom     12   \n",
      "31     2010-12-01 08:45:00       0.85     12583.0          France     12   \n",
      "44     2010-12-01 08:45:00       0.65     12583.0          France     12   \n",
      "46     2010-12-01 09:00:00       2.55     13748.0  United Kingdom     12   \n",
      "65     2010-12-01 09:09:00      10.95     15100.0  United Kingdom     12   \n",
      "...                    ...        ...         ...             ...    ...   \n",
      "541835 2011-12-09 12:19:00       1.79     17581.0  United Kingdom     12   \n",
      "541865 2011-12-09 12:23:00       1.45     13777.0  United Kingdom     12   \n",
      "541866 2011-12-09 12:23:00       1.85     13777.0  United Kingdom     12   \n",
      "541867 2011-12-09 12:25:00       0.72     13777.0  United Kingdom     12   \n",
      "541868 2011-12-09 12:25:00       1.85     13777.0  United Kingdom     12   \n",
      "\n",
      "        DayOfWeek  \n",
      "9               2  \n",
      "31              2  \n",
      "44              2  \n",
      "46              2  \n",
      "65              2  \n",
      "...           ...  \n",
      "541835          4  \n",
      "541865          4  \n",
      "541866          4  \n",
      "541867          4  \n",
      "541868          4  \n",
      "\n",
      "[26682 rows x 10 columns]\n",
      "\n",
      "Outliers in UnitPrice :        InvoiceNo StockCode                     Description  Quantity  \\\n",
      "5         536365     22752    SET 7 BABUSHKA NESTING BOXES         2   \n",
      "16        536367     22622  BOX OF VINTAGE ALPHABET BLOCKS         2   \n",
      "19        536367     21777     RECIPE BOX WITH METAL HEART         4   \n",
      "20        536367     48187             DOORMAT NEW ENGLAND         4   \n",
      "45        536370      POST                         POSTAGE         3   \n",
      "...          ...       ...                             ...       ...   \n",
      "541768    581578      POST                         POSTAGE         3   \n",
      "541786    581578     22622  BOX OF VINTAGE ALPHABET BLOCKS         6   \n",
      "541831    581579     22941    CHRISTMAS LIGHTS 10 REINDEER         4   \n",
      "541849    581580     22894   TABLECLOTH RED APPLES DESIGN          2   \n",
      "541892    581586     21217   RED RETROSPOT ROUND CAKE TINS        24   \n",
      "\n",
      "               InvoiceDate  UnitPrice  CustomerID         Country  Month  \\\n",
      "5      2010-12-01 08:26:00       7.65     17850.0  United Kingdom     12   \n",
      "16     2010-12-01 08:34:00       9.95     13047.0  United Kingdom     12   \n",
      "19     2010-12-01 08:34:00       7.95     13047.0  United Kingdom     12   \n",
      "20     2010-12-01 08:34:00       7.95     13047.0  United Kingdom     12   \n",
      "45     2010-12-01 08:45:00      18.00     12583.0          France     12   \n",
      "...                    ...        ...         ...             ...    ...   \n",
      "541768 2011-12-09 12:16:00      18.00     12713.0         Germany     12   \n",
      "541786 2011-12-09 12:16:00      11.95     12713.0         Germany     12   \n",
      "541831 2011-12-09 12:19:00       8.50     17581.0  United Kingdom     12   \n",
      "541849 2011-12-09 12:20:00       9.95     12748.0  United Kingdom     12   \n",
      "541892 2011-12-09 12:49:00       8.95     13113.0  United Kingdom     12   \n",
      "\n",
      "        DayOfWeek  \n",
      "5               2  \n",
      "16              2  \n",
      "19              2  \n",
      "20              2  \n",
      "45              2  \n",
      "...           ...  \n",
      "541768          4  \n",
      "541786          4  \n",
      "541831          4  \n",
      "541849          4  \n",
      "541892          4  \n",
      "\n",
      "[36051 rows x 10 columns]\n"
     ]
    }
   ],
   "source": [
    "# Define lower and upper bounds to identify outliers\n",
    "lower_bound_quantity = q1_Quantity - 1.5 * IQR_Quantity\n",
    "upper_bound_quantity = q3_Quantity + 1.5 * IQR_Quantity\n",
    "\n",
    "# Identify outliers in Quantity\n",
    "outliers_quantity = df[(df['Quantity'] < lower_bound_quantity) | (df['Quantity'] > upper_bound_quantity)]\n",
    "\n",
    "\n",
    "# Define lower and upper bounds to identify outliers\n",
    "lower_bound_UnitPrice = q1_UnitPrice - 1.5 * IQR_UnitPrice\n",
    "upper_bound_Unitprice = q3_UnitPrice + 1.5 * IQR_UnitPrice\n",
    "\n",
    "# Identify outliers in UnitPrice\n",
    "outliers_unitprice = df[(df['UnitPrice'] < lower_bound_UnitPrice) | (df['UnitPrice'] > upper_bound_Unitprice)]\n",
    "print(f\"Outliers in Quantity : {outliers_quantity}\")\n",
    "print(f\"\\nOutliers in UnitPrice : {outliers_unitprice}\")"
   ]
  },
  {
   "cell_type": "markdown",
   "metadata": {},
   "source": [
    "## Task-8: Draw conclusions and summarize your findings from the exploratory data analysis."
   ]
  },
  {
   "cell_type": "code",
   "execution_count": 100,
   "metadata": {},
   "outputs": [
    {
     "name": "stdout",
     "output_type": "stream",
     "text": [
      ">>>Conclusion<<<<<\n",
      "Using Python for Exploratory data analysis makes easy to find the  mean , median and modes using the pandas library..\n",
      "It becomes very easy to visualize the data in different types of graphs such as in Histograms , Scatter plots and in Bar plots\n",
      "Standard Deviation and variations can also be performed as pandas library has enriched with built in functions for\n",
      "data analysis.\n",
      ">>>>Summarize<<<<<\n",
      "Firstly we have checked for any missing values and removed the missing values.\n",
      "By analyzing the sales trends over time we have come to know about busiest month and busiest days of week which \n",
      "was in months - November and in Days of the week it was 3 - Wednesday\n"
     ]
    }
   ],
   "source": [
    "print(\">>>Conclusion<<<<<\")\n",
    "print(\"Using Python for Exploratory data analysis makes easy to find the  mean , median and modes using the pandas library..\\nIt becomes very easy to visualize the data in different types of graphs such as in Histograms , Scatter plots and in Bar plots\")\n",
    "print(\"Standard Deviation and variations can also be performed as pandas library has enriched with built in functions for\\ndata analysis.\")\n",
    "print(\">>>>Summarize<<<<<\")\n",
    "print(\"Firstly we have checked for any missing values and removed the missing values.\")\n",
    "print(\"By analyzing the sales trends over time we have come to know about busiest month and busiest days of week which \\nwas in months - November and in Days of the week it was 3 - Wednesday\")"
   ]
  }
 ],
 "metadata": {
  "kernelspec": {
   "display_name": "Python 3 (ipykernel)",
   "language": "python",
   "name": "python3"
  },
  "language_info": {
   "codemirror_mode": {
    "name": "ipython",
    "version": 3
   },
   "file_extension": ".py",
   "mimetype": "text/x-python",
   "name": "python",
   "nbconvert_exporter": "python",
   "pygments_lexer": "ipython3",
   "version": "3.9.12"
  }
 },
 "nbformat": 4,
 "nbformat_minor": 4
}
